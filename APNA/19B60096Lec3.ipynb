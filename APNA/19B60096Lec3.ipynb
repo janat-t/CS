{
  "nbformat": 4,
  "nbformat_minor": 0,
  "metadata": {
    "colab": {
      "name": "19B60096Lec3.ipynb",
      "provenance": [],
      "collapsed_sections": [
        "Atwth9_Au1tK"
      ]
    },
    "kernelspec": {
      "display_name": "Python 3",
      "language": "python",
      "name": "python3"
    },
    "language_info": {
      "codemirror_mode": {
        "name": "ipython",
        "version": 3
      },
      "file_extension": ".py",
      "mimetype": "text/x-python",
      "name": "python",
      "nbconvert_exporter": "python",
      "pygments_lexer": "ipython3",
      "version": "3.8.5"
    }
  },
  "cells": [
    {
      "cell_type": "markdown",
      "metadata": {
        "id": "HJIL_suvu1s7"
      },
      "source": [
        "# Day 3 (Vector and matrix operation, and statistical processing)\n",
        "\n",
        "## Content \n",
        "\n",
        "* mathematical module\n",
        "* numpy module\n",
        "* Vector and matrix operation\n",
        "* Statistical processing\n",
        "\n",
        "## Library `math`\n",
        "- It has the fixed value $\\pi$ and functions `sin`, `cos`, `tan`, `exp`, `log` etc.\n",
        "- Please see the following example."
      ]
    },
    {
      "cell_type": "code",
      "metadata": {
        "id": "MgNtCYZDu1s7",
        "colab": {
          "base_uri": "https://localhost:8080/"
        },
        "outputId": "9a2f265e-d831-4e73-947c-223e475f168c"
      },
      "source": [
        "import math\n",
        "import numpy as np\n",
        "\n",
        "print(math.pi)\n",
        "print(math.sin(math.pi * 0.5))\n",
        "et = math.exp(2.0)\n",
        "print(et)\n",
        "print(math.log(et))\n"
      ],
      "execution_count": 1,
      "outputs": [
        {
          "output_type": "stream",
          "text": [
            "3.141592653589793\n",
            "1.0\n",
            "7.38905609893065\n",
            "2.0\n"
          ],
          "name": "stdout"
        }
      ]
    },
    {
      "cell_type": "markdown",
      "metadata": {
        "id": "OXEjiBqru1tH"
      },
      "source": [
        "### Practice\n",
        "- Try to use such functions."
      ]
    },
    {
      "cell_type": "code",
      "metadata": {
        "id": "o6i0gjkXu1tI",
        "colab": {
          "base_uri": "https://localhost:8080/"
        },
        "outputId": "b7d0e703-4610-4d3f-bc9c-12934a326fe3"
      },
      "source": [
        "# Make a program: Use math library\n",
        "x = 30\n",
        "print(math.sin(x)**2+math.cos(x)**2)"
      ],
      "execution_count": 2,
      "outputs": [
        {
          "output_type": "stream",
          "text": [
            "1.0\n"
          ],
          "name": "stdout"
        }
      ]
    },
    {
      "cell_type": "markdown",
      "metadata": {
        "id": "Atwth9_Au1tK"
      },
      "source": [
        "## Bisection method\n",
        "\n",
        "### Assumption\n",
        "- Assume that $f(x)$ is monotone increasing function.\n",
        "- We solve $f(x) = 0$.\n",
        "- For initial values $a$ and $b$, we have $f(a) < 0$ and $f(b) > 0$.\n",
        "- The precision of answer is $\\varepsilon$.\n",
        "### Algorithm\n",
        "0. $x = (a + b) / 2$\n",
        "0. If $b - a < \\varepsilon$, stop the algorithrm and $x$ is answer.\n",
        "0. If $f(x) > 0$, let $b = x$.\n",
        "0. If $f(x) < 0$, let $a = x$.\n",
        "0. If $f(x) = 0$, stop the algorithrm and $x$ is answer.\n",
        "0. Go to 1. \n",
        "\n",
        "\n",
        "### Practice\n",
        "- Solve the following by bisection method.\n",
        "$$\n",
        "\\sin(x) + x - 1 = 0\n",
        "$$\n",
        "- The lower initila value is 0 and the upper initial value $\\pi / 2$.\n",
        "- $\\varepsilon = 10^{-6}$"
      ]
    },
    {
      "cell_type": "markdown",
      "metadata": {
        "id": "SnLfoUA2u1tK"
      },
      "source": [
        "## Practice of using mathematical description by Markdown\n",
        "- Functions, fraction, subscription, superscription, sum, integral, large parenthesis. \n",
        "\n",
        "$$sin(x) + x -1 =0$$\n",
        "\n",
        "\n",
        "$$\\frac{142}{13}$$\n",
        "\n",
        "\n",
        "$$Fi_0 + Fi_1 = Fi_2$$\n",
        "\n",
        "\n",
        "$${sin}^2(x)+{cos}^2(x)=1$$\n",
        "\n",
        "\n",
        "$$\\sum_{i=1}^{10} t_i$$\n",
        "\n",
        "\n",
        "$$\\int_{0}^{\\infty} x^2 dx$$\n",
        "\n",
        "\n",
        "$$\\Big(\\big( () \\big) \\Big)$$\n",
        "\n",
        "- In line $a + b = c$"
      ]
    },
    {
      "cell_type": "code",
      "metadata": {
        "id": "clVLmOUDu1tL",
        "colab": {
          "base_uri": "https://localhost:8080/"
        },
        "outputId": "0ff72dc7-c27a-45a1-f1ac-eb3e27e5cf58"
      },
      "source": [
        "# Make a program: bisection method\n",
        "def fx(x):\n",
        "    return math.sin(x)+x-1\n",
        "\n",
        "## Set precision of answer to 10^-6\n",
        "e = 1e-6\n",
        "\n",
        "## Set initial values of a and b\n",
        "a = 0.0\n",
        "b = np.pi/2.0\n",
        "\n",
        "## Assign value of (a+b)/2 to x \n",
        "x = (a+b)/2.0\n",
        "\n",
        "## Loop until b-a < e\n",
        "while b-a > e:\n",
        "    ## Assign value of x\n",
        "    x = (a+b)/2.0\n",
        "    if fx(x) > 0:\n",
        "        b = x\n",
        "    else: \n",
        "        a = x\n",
        "print(\"Estimated X is {0}\".format(x))\n",
        "print(\"sin(x)+x-1={0}\".format(fx(x)))\n"
      ],
      "execution_count": 3,
      "outputs": [
        {
          "output_type": "stream",
          "text": [
            "Estimated X is 0.5109736443318578\n",
            "sin(x)+x-1=4.024316206940881e-07\n"
          ],
          "name": "stdout"
        }
      ]
    },
    {
      "cell_type": "markdown",
      "metadata": {
        "id": "6jiG2scYu1tT"
      },
      "source": [
        "# Vector and matrix calculation\n",
        "\n",
        "## Vector and matrix operation\n",
        "\n",
        "* <font color=\"blue\">{Major part of numerical analysis is the calculation of linear algebra.}</font>\n",
        "  * Structure analysis and Fluid analysis\n",
        "  * Electromagnetic analysis and circuit analysis\n",
        "  * Statistical processing and image processing.\n",
        "* Recent computers are designed to accelerate vector operations.\n",
        "  * Vector processor (Super computer)\n",
        "  * Operations for vector processing in CPU.   \n",
        "  SIMD: Single instruction multiple data\n",
        "     * SSE: Streaming Single instruction multiple data Extensions\n",
        "     * AVX: Advanced Vector eXtensions\n",
        "  * GPU (Graphics Processing Unit)\n",
        "* Expressions of vector and matrix in Python.\n",
        " * 1-dimensional array : vector\n",
        " * 2-dimensional array : matrix\n",
        " * $n$-dimensional array ($n \\leq 2$) : tensor\n",
        "* In order to accelerate the calculation, the amount of program for the matrix multiplication become longer and longer.   \n",
        "<font color=\"orange\">$\\Rightarrow$ Use libraries.  \n",
        " * BLAS (Basic Linear Algebra Subprograms) \n",
        " * LAPACK (Linner Algebra Package)\n",
        "\n",
        "## Library `numpy`\n",
        "- ndarray (array of numpy) is similar to list.\n",
        "- Calulation of np.array is faster than them.\n",
        "- `dtype` should be set if it is not `int`. Mix of type is not allowed."
      ]
    },
    {
      "cell_type": "code",
      "metadata": {
        "id": "4aakd9ENu1tT",
        "colab": {
          "base_uri": "https://localhost:8080/"
        },
        "outputId": "e9d73708-7d23-42c3-972a-e23dd80dbe44"
      },
      "source": [
        "import numpy as np\n",
        "\n",
        "v1 = np.array([1, 2, 3, 4, 5], dtype='float64')\n",
        "v2 = np.array([2, -1, 3, 3, -2], dtype = 'float64')\n",
        "m1 = np.array([[5, 3, -1, 4, 5],[1, 4, 5, 3, 2],[-1, 0, 5, 2, 2]], dtype='float64')\n",
        "m2 = np.array([[1, 3, -2],[1, -2, 5]], dtype='float64')\n",
        "print(v1)\n",
        "print(v2)\n",
        "print(m1)\n",
        "print(m2)\n",
        "\n",
        "# Size\n",
        "print(\"v1.size = {0}\".format(v1.size))\n",
        "print(\"m1.size = {0}\".format(m1.size))\n",
        "\n",
        "# Len\n",
        "print(\"len(v1) = {0}\".format(len(v1)))\n",
        "print(\"len(m1) = {0}\".format(len(m1)))\n",
        "\n",
        "# Shape\n",
        "print(\"v1.shape = {0}\".format(v1.shape))\n",
        "print(\"m1.shape = {0}\".format(m1.shape))\n",
        "\n",
        "(rowM1, colM1) = m1.shape\n",
        "\n",
        "print(\"Number of rows of m1 = {0}\".format(rowM1))\n",
        "print(\"Number of columns of m1 = {0}\".format(colM1))\n",
        "\n",
        "# An element\n",
        "print(\"v1[2] = {0}\".format(v1[2]))\n",
        "print(\"m1[1,2] = {0}\".format(m1[1,2]))\n",
        "\n",
        "# Extract elements\n",
        "print(\"m1[0:2,1:3] = {0}\".format(m1[0:2,1:3]))\n",
        "\n",
        "# Make zero matrix\n",
        "print(\"np.zeros(2) = {0}\".format(np.zeros(2)))\n",
        "print(\"np.zeros((2, 3)) = {0}\".format(np.zeros((2, 3))))\n",
        "\n",
        "# Make a matrix with all elements 1\n",
        "print(\"np.ones(2) = {0}\".format(np.ones(2)))\n",
        "print(\"np.ones((2, 3)) = {0}\".format(np.ones((2, 3))))\n"
      ],
      "execution_count": 4,
      "outputs": [
        {
          "output_type": "stream",
          "text": [
            "[1. 2. 3. 4. 5.]\n",
            "[ 2. -1.  3.  3. -2.]\n",
            "[[ 5.  3. -1.  4.  5.]\n",
            " [ 1.  4.  5.  3.  2.]\n",
            " [-1.  0.  5.  2.  2.]]\n",
            "[[ 1.  3. -2.]\n",
            " [ 1. -2.  5.]]\n",
            "v1.size = 5\n",
            "m1.size = 15\n",
            "len(v1) = 5\n",
            "len(m1) = 3\n",
            "v1.shape = (5,)\n",
            "m1.shape = (3, 5)\n",
            "Number of rows of m1 = 3\n",
            "Number of columns of m1 = 5\n",
            "v1[2] = 3.0\n",
            "m1[1,2] = 5.0\n",
            "m1[0:2,1:3] = [[ 3. -1.]\n",
            " [ 4.  5.]]\n",
            "np.zeros(2) = [0. 0.]\n",
            "np.zeros((2, 3)) = [[0. 0. 0.]\n",
            " [0. 0. 0.]]\n",
            "np.ones(2) = [1. 1.]\n",
            "np.ones((2, 3)) = [[1. 1. 1.]\n",
            " [1. 1. 1.]]\n"
          ],
          "name": "stdout"
        }
      ]
    },
    {
      "cell_type": "markdown",
      "metadata": {
        "id": "zbKxQGA-u1tW"
      },
      "source": [
        "### Practice\n",
        "- Calculate the innerproduct of `v1` and `v2` by using `for` sentence.\n",
        "- Calculate the product of `m1` and `v1` by using `for` sentence.\n",
        "- Calculate the product of `m1` and `m2` by using `for` sentence."
      ]
    },
    {
      "cell_type": "code",
      "metadata": {
        "id": "qaT2Ho2Fu1tW",
        "colab": {
          "base_uri": "https://localhost:8080/"
        },
        "outputId": "14760cc8-426e-48fa-d221-33b0fc7b41d8"
      },
      "source": [
        "# Make a program\n",
        "# Inner product\n",
        "innerprod = 0.0\n",
        "for i in range(v1.size):\n",
        "    innerprod += v1[i]*v2[i]\n",
        "print(\"Inner Product of v1 and v2 is\", innerprod)\n",
        "\n",
        "# Multiplication of a matrix and a vector\n",
        "prodmv = np.zeros(len(m1))\n",
        "for i in range(len(m1)):\n",
        "    for j in range(len(v1)):\n",
        "        prodmv[i] += m1[i][j]*v1[j]\n",
        "print(\"Product of m1 and v1 is\", prodmv)\n",
        "\n",
        "# Multiplication of a matrix and a matrix\n",
        "prodmm = np.zeros((m2.shape[0], m1.shape[1]))\n",
        "for i in range(m2.shape[0]):\n",
        "    for j in range(m1.shape[1]):\n",
        "        for k in range(m1.shape[0]):\n",
        "            prodmm[i][j] += m2[i][k]*m1[k][j]\n",
        "print(\"Product of m1 and m2 is\")\n",
        "print(prodmm)\n",
        "\n"
      ],
      "execution_count": 5,
      "outputs": [
        {
          "output_type": "stream",
          "text": [
            "Inner Product of v1 and v2 is 11.0\n",
            "Product of m1 and v1 is [49. 46. 32.]\n",
            "Product of m1 and m2 is\n",
            "[[10. 15.  4.  9.  7.]\n",
            " [-2. -5. 14.  8. 11.]]\n"
          ],
          "name": "stdout"
        }
      ]
    },
    {
      "cell_type": "markdown",
      "metadata": {
        "id": "EJzJ6AdFu1tb"
      },
      "source": [
        "### dot product\n",
        "- Inner product and matrix multiplication can be done easily."
      ]
    },
    {
      "cell_type": "code",
      "metadata": {
        "id": "5wO2jWvcu1tc",
        "colab": {
          "base_uri": "https://localhost:8080/"
        },
        "outputId": "c0cdd4c0-3589-4b65-9922-59b306b41087"
      },
      "source": [
        "print(np.dot(v1, v2))\n",
        "print(v1.dot(v2))\n",
        "print(v1)"
      ],
      "execution_count": 6,
      "outputs": [
        {
          "output_type": "stream",
          "text": [
            "11.0\n",
            "11.0\n",
            "[1. 2. 3. 4. 5.]\n"
          ],
          "name": "stdout"
        }
      ]
    },
    {
      "cell_type": "markdown",
      "metadata": {
        "id": "v8XAc8Ywu1th"
      },
      "source": [
        "### Practice\n",
        "- Try dot product for matrix and vector multiplication.\n",
        "- Try dot product for matrix and matrix multiplication."
      ]
    },
    {
      "cell_type": "code",
      "metadata": {
        "id": "J889RRV7u1ti",
        "colab": {
          "base_uri": "https://localhost:8080/"
        },
        "outputId": "f3d507fe-3685-4d1b-cc90-b5717ff0f910"
      },
      "source": [
        "# Make a program: Use dot product\n",
        "print(np.dot(m1,v1))\n",
        "print(np.dot(m2,m1))"
      ],
      "execution_count": 7,
      "outputs": [
        {
          "output_type": "stream",
          "text": [
            "[49. 46. 32.]\n",
            "[[10. 15.  4.  9.  7.]\n",
            " [-2. -5. 14.  8. 11.]]\n"
          ],
          "name": "stdout"
        }
      ]
    },
    {
      "cell_type": "markdown",
      "metadata": {
        "id": "QFbBUO25u1tk"
      },
      "source": [
        "### Practice\n",
        "- Make functions to do selection sort in both ascending and descending orders for given data in ndarray."
      ]
    },
    {
      "cell_type": "code",
      "metadata": {
        "id": "W1pXHbocu1tl",
        "colab": {
          "base_uri": "https://localhost:8080/"
        },
        "outputId": "74f9dd84-6dc7-4e78-a013-e79f556c8343"
      },
      "source": [
        "# Make a program sort ascending/descending orders\n",
        "import numpy as np\n",
        "\n",
        "def sortSelectAscend(ar):\n",
        "    for i in range(len(ar)):\n",
        "        mi = i\n",
        "        for j in range(i,len(ar)):\n",
        "            if ar[j] < ar[mi]:\n",
        "                mi = j\n",
        "        ar[i], ar[mi] = ar[mi], ar[i]\n",
        "\n",
        "def sortSelectDescend(ar):\n",
        "    for i in range(len(ar)):\n",
        "        ma = i\n",
        "        for j in range(i,len(ar)):\n",
        "            if ar[j] > ar[ma]:\n",
        "                ma = j\n",
        "        ar[i], ar[ma] = ar[ma], ar[i]\n",
        "                \n",
        "ar1 = np.array([10, -2, 13, 42, 35, 23, -23, 12, 12])\n",
        "print(ar1)\n",
        "sortSelectAscend(ar1)\n",
        "print(ar1)\n",
        "sortSelectDescend(ar1)\n",
        "print(ar1)"
      ],
      "execution_count": 8,
      "outputs": [
        {
          "output_type": "stream",
          "text": [
            "[ 10  -2  13  42  35  23 -23  12  12]\n",
            "[-23  -2  10  12  12  13  23  35  42]\n",
            "[ 42  35  23  13  12  12  10  -2 -23]\n"
          ],
          "name": "stdout"
        }
      ]
    },
    {
      "cell_type": "markdown",
      "metadata": {
        "id": "CxvMZL1Tu1tn"
      },
      "source": [
        "## Statistics\n",
        "### Practice\n",
        "- Calulate mean, variance, standard deviation, and median for given data in `ndarray` by using `for` sentence.\n",
        "- Median : If the number of data $N$ is odd, the $(N+1)/2$-th largest data. If it is even, the average of $N$-th and $(N+1)$-th largest data."
      ]
    },
    {
      "cell_type": "code",
      "metadata": {
        "colab": {
          "base_uri": "https://localhost:8080/"
        },
        "id": "p_pWd4Tnu1to",
        "outputId": "d401a599-9446-4289-deb9-7492bd75d5ae"
      },
      "source": [
        "# Make a program\n",
        "import numpy as np\n",
        "data = np.array([10, 21, 34, 4, 15, 16, 7], dtype='float64') # The given data\n",
        "N = len(data)\n",
        "\n",
        "# Mean\n",
        "mean = 0.0\n",
        "for a in data:\n",
        "    mean += a\n",
        "mean /= N\n",
        "print(\"Mean: {0:.2f}\".format(mean))\n",
        "\n",
        "# Variace\n",
        "variance = 0.0\n",
        "for a in data:\n",
        "    variance += (a-mean)**2\n",
        "variance /= N-1\n",
        "stdev = math.sqrt(variance)\n",
        "print(\"Mean: Variance: {0:.2f}, Standard deviation: {1:.2f}\".format(variance, stdev))\n",
        "\n",
        "# Median\n",
        "# Selection sort\n",
        "sortSelectAscend(data)\n",
        "if N%2 == 1:\n",
        "    median = data[(N-1)//2]\n",
        "else:\n",
        "    median = (data[N//2]+data[N//2-1])/2\n",
        "\n",
        "print('Median: {0:.2f}'.format(median))"
      ],
      "execution_count": 9,
      "outputs": [
        {
          "output_type": "stream",
          "text": [
            "Mean: 15.29\n",
            "Mean: Variance: 101.24, Standard deviation: 10.06\n",
            "Median: 15.00\n"
          ],
          "name": "stdout"
        }
      ]
    },
    {
      "cell_type": "markdown",
      "metadata": {
        "id": "8wOolEx8u1tq"
      },
      "source": [
        "- They can be calculated by using library of `statistics`"
      ]
    },
    {
      "cell_type": "code",
      "metadata": {
        "colab": {
          "base_uri": "https://localhost:8080/"
        },
        "id": "SiSPR0jNu1tq",
        "outputId": "3d072338-9593-4ea4-a971-be3953a37317"
      },
      "source": [
        "import statistics as st\n",
        "import numpy as np\n",
        "\n",
        "data     = np.array([10, 21, 34, 4, 15, 16, 7], dtype='float64')\n",
        "mean     = st.mean(data)\n",
        "print(\"Mean: {0:.2f}\".format(mean))\n",
        "\n",
        "variance = st.variance(data)\n",
        "stdev    = st.stdev(data)\n",
        "print(\"Mean: Variance: {0:.2f}, Standard deviation: {1:.2f}\".format(variance, stdev))\n",
        "\n",
        "median   = st.median(data)\n",
        "print('Median: {0:.2f}'.format(median))\n"
      ],
      "execution_count": 10,
      "outputs": [
        {
          "output_type": "stream",
          "text": [
            "Mean: 15.29\n",
            "Mean: Variance: 101.24, Standard deviation: 10.06\n",
            "Median: 15.00\n"
          ],
          "name": "stdout"
        }
      ]
    },
    {
      "cell_type": "markdown",
      "metadata": {
        "id": "Vz6517Ygu1tv"
      },
      "source": [
        "- Program to describe a histgram of random values of a uniform distribution and print mean and standard deviation\n",
        "- Its true values are 0.5 and $1 / \\sqrt{12}$, respectively."
      ]
    },
    {
      "cell_type": "code",
      "metadata": {
        "colab": {
          "base_uri": "https://localhost:8080/",
          "height": 282
        },
        "id": "Uk44K8fWu1tw",
        "outputId": "4312d833-bdc2-456d-daed-3ee8bf5f1624"
      },
      "source": [
        "import numpy as np\n",
        "import statistics as st\n",
        "import matplotlib.pyplot as plt\n",
        " \n",
        "N = 10000\n",
        "# Generate N random values of unifrom distibution between 0 and 1\n",
        "data = np.random.rand(N)\n",
        "\n",
        "# Output graph\n",
        "plt.hist(data)\n",
        "\n",
        "mean     = st.mean(data)\n",
        "stdev    = st.stdev(data)\n",
        "print(\"Mean: {0:.2f}, Standard deviation: {1:.2f},  1 / sqrt(12) = {2}\".format(mean, stdev, 1.0 / np.sqrt(12.0)))"
      ],
      "execution_count": 11,
      "outputs": [
        {
          "output_type": "stream",
          "text": [
            "Mean: 0.50, Standard deviation: 0.29,  1 / sqrt(12) = 0.2886751345948129\n"
          ],
          "name": "stdout"
        },
        {
          "output_type": "display_data",
          "data": {
            "image/png": "[encoded data removed]",
            "text/plain": [
              "<Figure size 432x288 with 1 Axes>"
            ]
          },
          "metadata": {
            "tags": [],
            "needs_background": "light"
          }
        }
      ]
    },
    {
      "cell_type": "markdown",
      "metadata": {
        "id": "n68Qpf-5u1ty"
      },
      "source": [
        "### Practice\n",
        "- Make random values of a uniform distribution of which mean is 0 and standard deviation is 1."
      ]
    },
    {
      "cell_type": "code",
      "metadata": {
        "colab": {
          "base_uri": "https://localhost:8080/",
          "height": 282
        },
        "id": "UNrMXbVPu1ty",
        "outputId": "a5e419f0-4b86-458e-fbaf-96d966d2b318"
      },
      "source": [
        "# Fill after 'data = '\n",
        "import numpy as np\n",
        "import statistics as st\n",
        "import matplotlib.pyplot as plt\n",
        " \n",
        "N = 10000\n",
        "# Generate N random values of unifrom distibution of which mean is 0 and standard deviation is 1.\n",
        "data = (np.random.rand(N)-0.5)*np.sqrt(12)\n",
        " \n",
        "# Output graph\n",
        "plt.hist(data)\n",
        "\n",
        "mean     = st.mean(data)\n",
        "stdev    = st.stdev(data)\n",
        "print(\"Mean: {0:.2f}, Standard deviation: {1:.2f}\".format(mean, stdev))\n"
      ],
      "execution_count": 12,
      "outputs": [
        {
          "output_type": "stream",
          "text": [
            "Mean: 0.01, Standard deviation: 1.00\n"
          ],
          "name": "stdout"
        },
        {
          "output_type": "display_data",
          "data": {
            "image/png": "[encoded data removed]",
            "text/plain": [
              "<Figure size 432x288 with 1 Axes>"
            ]
          },
          "metadata": {
            "tags": [],
            "needs_background": "light"
          }
        }
      ]
    },
    {
      "cell_type": "markdown",
      "metadata": {
        "id": "CuNniUh5u1t2"
      },
      "source": [
        "- Draw graph of a normal distribution.\n",
        "\n",
        "$$ f(x)=\\frac{1}{\\sigma \\sqrt{2\\pi}}e^{-\\frac{1}{2}\\big(\\frac{x-\\mu}{\\sigma}\\big)^2} $$"
      ]
    },
    {
      "cell_type": "code",
      "metadata": {
        "colab": {
          "base_uri": "https://localhost:8080/",
          "height": 282
        },
        "id": "Cj0qchCfu1t2",
        "outputId": "406dbe29-d25b-4e43-fae3-62d2f5611ef4"
      },
      "source": [
        "# Fill after 'pdfn = '\n",
        "import numpy as np\n",
        "import matplotlib.pyplot as plt\n",
        "\n",
        "mean = 50.0\n",
        "stdv = 10.0\n",
        "x    = np.arange(0, 100, 0.1)\n",
        "pdfn = np.exp(-1/2*((x-mean)/stdv)**2)/(stdv*np.sqrt(2*np.pi))\n",
        "plt.plot(x, pdfn)"
      ],
      "execution_count": 13,
      "outputs": [
        {
          "output_type": "execute_result",
          "data": {
            "text/plain": [
              "[<matplotlib.lines.Line2D at 0x7f4992a97c88>]"
            ]
          },
          "metadata": {
            "tags": []
          },
          "execution_count": 13
        },
        {
          "output_type": "display_data",
          "data": {
            "image/png": "[encoded data removed]",
            "text/plain": [
              "<Figure size 432x288 with 1 Axes>"
            ]
          },
          "metadata": {
            "tags": [],
            "needs_background": "light"
          }
        }
      ]
    },
    {
      "cell_type": "markdown",
      "metadata": {
        "id": "gz1fHhPyu1t5"
      },
      "source": [
        "- Draw graph of a normal distribution and a histgram of random values of normal distribution."
      ]
    },
    {
      "cell_type": "code",
      "metadata": {
        "colab": {
          "base_uri": "https://localhost:8080/",
          "height": 285
        },
        "id": "7u-8jaztu1t6",
        "outputId": "759864d9-2d36-4075-9352-bf48a970b14e"
      },
      "source": [
        "import numpy as np\n",
        "import matplotlib.pyplot as plt\n",
        "\n",
        "mean = 50.0\n",
        "stdv = 10.0\n",
        "N    = 10000\n",
        "\n",
        "# Generate N random values of normal distibution of average mean and stardard deviation stdv\n",
        "data = np.random.normal(mean, stdv, N)\n",
        "\n",
        "# Probability density function of normal distribution\n",
        "x    = np.arange(0, 100, 0.1)\n",
        "pdfn = np.exp(-(x - mean) * (x - mean) / (2.0 * stdv * stdv)) / (np.sqrt(2.0 * np.pi) * stdv)\n",
        "\n",
        "# Output graph\n",
        "NBin = 50           # Number of bins\n",
        "RangeBin = [20, 80] # Range of bins\n",
        "plt.hist(data, NBin, RangeBin)\n",
        "plt.plot(x, N * (RangeBin[1] - RangeBin[0]) / float(NBin) * pdfn)\n"
      ],
      "execution_count": 14,
      "outputs": [
        {
          "output_type": "execute_result",
          "data": {
            "text/plain": [
              "[<matplotlib.lines.Line2D at 0x7f4992a5d710>]"
            ]
          },
          "metadata": {
            "tags": []
          },
          "execution_count": 14
        },
        {
          "output_type": "display_data",
          "data": {
            "image/png": "[encoded data removed]",
            "text/plain": [
              "<Figure size 432x288 with 1 Axes>"
            ]
          },
          "metadata": {
            "tags": [],
            "needs_background": "light"
          }
        }
      ]
    },
    {
      "cell_type": "markdown",
      "metadata": {
        "id": "LZRDzbT2u1t8"
      },
      "source": [
        "### Central limit theorem\n",
        "- Assume that $X_1,\\,X_2,\\,\\ldots,\\, X_M$ are independent random variable of identical distribution.\n",
        "- Then, \n",
        "$$\n",
        "\\frac{X_1+ X_2 + \\cdots + X_M}{\\sqrt{M}}\n",
        "$$\n",
        "converges to a random variable of a normal distribution of which mean and standard deviation are respectively the same as those of original distribution when $M \\rightarrow \\infty$.\n",
        "\n",
        "#### Various distribution of which mean is 0 and standard deviation is 1\n",
        "- Uniform\n",
        "- $-1$ or $+1$\n",
        "- Triangle"
      ]
    },
    {
      "cell_type": "code",
      "metadata": {
        "id": "r71D2VyldzJb",
        "colab": {
          "base_uri": "https://localhost:8080/",
          "height": 469
        },
        "outputId": "5b21303e-412d-48a5-ba87-a133c0b3dd44"
      },
      "source": [
        "import numpy as np\n",
        "import matplotlib.pyplot as plt\n",
        "\n",
        "# Unifrom\n",
        "data = np.sqrt(12.0) * (np.random.rand(N) - 0.5)\n",
        "# data = np.sign(np.random.rand(N) - 0.5)\n",
        "# data = np.sqrt(18.0) * (np.sqrt(np.random.rand(N)) - 2.0/3.0)\n",
        "\n",
        "# Output graph\n",
        "NBin = 50\n",
        "RangeBin = [-4, 4]\n",
        "plt.hist(data, NBin, RangeBin)"
      ],
      "execution_count": 15,
      "outputs": [
        {
          "output_type": "execute_result",
          "data": {
            "text/plain": [
              "(array([  0.,   0.,   0.,   0.,   0.,   0.,   0.,   0.,   0.,   0.,   0.,\n",
              "          0.,   0.,   0., 373., 442., 463., 448., 439., 470., 431., 452.,\n",
              "        454., 445., 452., 423., 488., 486., 494., 516., 458., 432., 463.,\n",
              "        505., 482., 384.,   0.,   0.,   0.,   0.,   0.,   0.,   0.,   0.,\n",
              "          0.,   0.,   0.,   0.,   0.,   0.]),\n",
              " array([-4.  , -3.84, -3.68, -3.52, -3.36, -3.2 , -3.04, -2.88, -2.72,\n",
              "        -2.56, -2.4 , -2.24, -2.08, -1.92, -1.76, -1.6 , -1.44, -1.28,\n",
              "        -1.12, -0.96, -0.8 , -0.64, -0.48, -0.32, -0.16,  0.  ,  0.16,\n",
              "         0.32,  0.48,  0.64,  0.8 ,  0.96,  1.12,  1.28,  1.44,  1.6 ,\n",
              "         1.76,  1.92,  2.08,  2.24,  2.4 ,  2.56,  2.72,  2.88,  3.04,\n",
              "         3.2 ,  3.36,  3.52,  3.68,  3.84,  4.  ]),\n",
              " <a list of 50 Patch objects>)"
            ]
          },
          "metadata": {
            "tags": []
          },
          "execution_count": 15
        },
        {
          "output_type": "display_data",
          "data": {
            "image/png": "[encoded data removed]",
            "text/plain": [
              "<Figure size 432x288 with 1 Axes>"
            ]
          },
          "metadata": {
            "tags": [],
            "needs_background": "light"
          }
        }
      ]
    },
    {
      "cell_type": "markdown",
      "metadata": {
        "id": "NKedO1ibd0Lm"
      },
      "source": [
        "### Practice\n",
        "Draw the histgram of $N$ sum of $M$ random values of various distribution of which mean is 0 and standard deviation is 1 and the graph of probability density function of the starndard normal distribution ($M = 100$ and $N = 10000$). Align hights of the two. "
      ]
    },
    {
      "cell_type": "code",
      "metadata": {
        "id": "KtDvVxlru1t8",
        "colab": {
          "base_uri": "https://localhost:8080/",
          "height": 282
        },
        "outputId": "29873c0e-2b21-45de-fb0f-47acfc14fab5"
      },
      "source": [
        "# Make a program\n",
        "#### Central limit theorem\n",
        "\n",
        "import numpy as np\n",
        "import matplotlib.pyplot as plt\n",
        "\n",
        "def clt(M):\n",
        "    ar = np.random.rand(M)-0.5\n",
        "    return np.sum(ar)/np.sqrt(M)*np.sqrt(12)\n",
        "\n",
        "mean = 0.0\n",
        "stdv = 1.0\n",
        "N    = 10000\n",
        "M    = 100\n",
        "NBin = 50\n",
        "RangeBin = [-4,4]\n",
        "data = np.zeros(N)\n",
        "\n",
        "x    = np.arange(RangeBin[0], RangeBin[1], 0.01)\n",
        "pdfn = np.exp(-1/2*((x-mean)/stdv)**2)/(stdv*np.sqrt(2*np.pi))\n",
        "\n",
        "for i in range(N):\n",
        "    data[i] = clt(M)\n",
        "plt.hist(data, NBin, RangeBin)\n",
        "plt.plot(x, N * (RangeBin[1] - RangeBin[0]) / float(NBin) * pdfn)\n",
        "\n",
        "mean     = st.mean(data)\n",
        "stdev    = st.stdev(data)\n",
        "print(\"Mean: {0:.2f}, Standard deviation: {1:.2f}\".format(mean, stdev))"
      ],
      "execution_count": 16,
      "outputs": [
        {
          "output_type": "stream",
          "text": [
            "Mean: -0.01, Standard deviation: 1.00\n"
          ],
          "name": "stdout"
        },
        {
          "output_type": "display_data",
          "data": {
            "image/png": "[encoded data removed]",
            "text/plain": [
              "<Figure size 432x288 with 1 Axes>"
            ]
          },
          "metadata": {
            "tags": [],
            "needs_background": "light"
          }
        }
      ]
    },
    {
      "cell_type": "markdown",
      "metadata": {
        "id": "i3d-ZjJlu1uB"
      },
      "source": [
        "## File input/output\n",
        "\n",
        "- `open(filePath, mode)` : to open file.\n",
        "- `(object of io.TextIOWrapper).write()` : write data to the file.\n",
        "- `(object of io.TextIOWrapper).readline()` : read a line\n",
        "\n",
        "### Google Colaboratory \n",
        "\n",
        "We make possible to read/write files in Google drive from programs of Google Colaboratory.\n",
        "\n",
        "* Click the folder icon in the left region.\n",
        "* A list of file appears and click the folder icon with triangle (the most right of three folder icons.)\n",
        "* A new following cell appears.\n",
        "```\n",
        "from google.colab import drive\n",
        "drive.mount('/content/drive')\n",
        "```\n",
        "* Excute it (Ctrl-Enter) and a new window appears of which content is like.\n",
        "'''\n",
        "Go to this URL in a browser: (a very long URL)\n",
        "Enter your authorization code:\n",
        "```\n",
        "* Click the very long URL.\n",
        "  * Select your Google account.\n",
        "  * Click `Allow`.\n",
        "  * Your authorization code will appear.\n",
        "  * Copy it by clicking the double squre icon.\n",
        "* Paste it and type `Enter`.\n",
        "\n",
        "Then, `My Drive` of Google drive is mounted on `/content/drive/` of Google Colaboratory.\n",
        "\n",
        "* Make a folder to store data.\n",
        "  * Go to `My Drive` of Google Drive.\n",
        "  * Click `New`.\n",
        "  * Select `Folder`.\n",
        "  * Set the name of folder `APN_data`. \n",
        "* We can use file `data1.txt` in `APN_data` as  \n",
        "`/content/drive/My Drive/APN_data/data1.txt`  \n",
        "from Google colaboratory."
      ]
    },
    {
      "cell_type": "code",
      "metadata": {
        "colab": {
          "base_uri": "https://localhost:8080/"
        },
        "id": "7svEhuJhBAxk",
        "outputId": "65b549b2-adfe-43ed-ba31-98c4b338f30d"
      },
      "source": [
        "from google.colab import drive\n",
        "drive.mount('/content/drive')"
      ],
      "execution_count": 17,
      "outputs": [
        {
          "output_type": "stream",
          "text": [
            "Drive already mounted at /content/drive; to attempt to forcibly remount, call drive.mount(\"/content/drive\", force_remount=True).\n"
          ],
          "name": "stdout"
        }
      ]
    },
    {
      "cell_type": "code",
      "metadata": {
        "id": "c65yB_ZSu1uB",
        "colab": {
          "base_uri": "https://localhost:8080/"
        },
        "outputId": "d991474f-ec49-49f5-d968-e3dc9a387186"
      },
      "source": [
        "# File \n",
        "import numpy as np\n",
        "N = 100\n",
        "with open('/content/drive/My Drive/APN_data/data1.txt', mode='w') as fw:\n",
        "    fw.write(str(N)+\"\\n\") # \\ = Option ¥\n",
        "    for loop in range(0, N):\n",
        "        n = int(1000 * np.random.rand())\n",
        "        fw.write(str(n)+\"\\n\") # \\ = Option ¥\n",
        "        \n",
        "with open('/content/drive/My Drive/APN_data/data1.txt', mode='r') as fr:\n",
        "    sVal = fr.readline()\n",
        "    Nr   = int(sVal)\n",
        "    data = np.zeros(Nr, dtype='int')\n",
        "    pos  = 0\n",
        "    sVal = fr.readline()\n",
        "    while sVal:\n",
        "        data[pos] = int(sVal)\n",
        "        sVal = fr.readline()\n",
        "        pos += 1\n",
        "\n",
        "print(data)"
      ],
      "execution_count": 18,
      "outputs": [
        {
          "output_type": "stream",
          "text": [
            "[225 446 835  47 711 301 786 509 856 665 131 632 711  19 644 711 762 235\n",
            " 229 702 194 334 316 918 136 319 217  22 743 472 762 451 442 928  86 930\n",
            " 389 782 484 839 650  15 625 721 586  52 850 771 566 724 380 594 849 375\n",
            " 821 835 222 947 489 210 186 683 970 383 756 681 418 664 177 937 500 174\n",
            " 520 425 570 294 153  44 766 794 319 964 293 105 396 798 117 748 401 140\n",
            " 146 167 505 209 280 910 309 881 438 959]\n"
          ],
          "name": "stdout"
        }
      ]
    },
    {
      "cell_type": "markdown",
      "metadata": {
        "id": "1Tb7-Jpru1uD"
      },
      "source": [
        "### Practice\n",
        "- Make a program to read file `data1.txt` in `ndarray` and sort it in both order. (Copy data to another ndarrary before sort.)\n",
        "- And calculate its mean, variance, standard deviation, and median."
      ]
    },
    {
      "cell_type": "code",
      "metadata": {
        "id": "spQcuB3Su1uE",
        "colab": {
          "base_uri": "https://localhost:8080/"
        },
        "outputId": "83e9aace-a6a7-493c-cde4-f1b638e6055f"
      },
      "source": [
        "# Make a program\n",
        "import numpy as np\n",
        "with open('/content/drive/My Drive/APN_data/data1.txt', mode='r') as fr:\n",
        "    sVal = fr.readline()\n",
        "    N = int(sVal)\n",
        "    data = np.zeros(N, dtype='int')\n",
        "    for i in range(N):\n",
        "        sVal = fr.readline()\n",
        "        data[i] = int(sVal)\n",
        "print(data)\n",
        "\n",
        "data1 = data.copy()\n",
        "sortSelectAscend(data)\n",
        "sortSelectDescend(data1)\n",
        "print(data)\n",
        "print(data1)\n",
        "\n",
        "mean = np.mean(data)\n",
        "var = np.var(data)\n",
        "stdv = np.sqrt(var)\n",
        "median = np.median(data)\n",
        "\n",
        "print(\"Mean: {0:.2f}, Variance: {1:.2f}, Standard Deviation: {2:.2f}, Median: {3:.1f}\".format(mean,variance,stdv,median))"
      ],
      "execution_count": 19,
      "outputs": [
        {
          "output_type": "stream",
          "text": [
            "[225 446 835  47 711 301 786 509 856 665 131 632 711  19 644 711 762 235\n",
            " 229 702 194 334 316 918 136 319 217  22 743 472 762 451 442 928  86 930\n",
            " 389 782 484 839 650  15 625 721 586  52 850 771 566 724 380 594 849 375\n",
            " 821 835 222 947 489 210 186 683 970 383 756 681 418 664 177 937 500 174\n",
            " 520 425 570 294 153  44 766 794 319 964 293 105 396 798 117 748 401 140\n",
            " 146 167 505 209 280 910 309 881 438 959]\n",
            "[ 15  19  22  44  47  52  86 105 117 131 136 140 146 153 167 174 177 186\n",
            " 194 209 210 217 222 225 229 235 280 293 294 301 309 316 319 319 334 375\n",
            " 380 383 389 396 401 418 425 438 442 446 451 472 484 489 500 505 509 520\n",
            " 566 570 586 594 625 632 644 650 664 665 681 683 702 711 711 711 721 724\n",
            " 743 748 756 762 762 766 771 782 786 794 798 821 835 835 839 849 850 856\n",
            " 881 910 918 928 930 937 947 959 964 970]\n",
            "[970 964 959 947 937 930 928 918 910 881 856 850 849 839 835 835 821 798\n",
            " 794 786 782 771 766 762 762 756 748 743 724 721 711 711 711 702 683 681\n",
            " 665 664 650 644 632 625 594 586 570 566 520 509 505 500 489 484 472 451\n",
            " 446 442 438 425 418 401 396 389 383 380 375 334 319 319 316 309 301 294\n",
            " 293 280 235 229 225 222 217 210 209 194 186 177 174 167 153 146 140 136\n",
            " 131 117 105  86  52  47  44  22  19  15]\n",
            "Mean: 503.83, Variance: 101.24, Standard Deviation: 281.63, Median: 494.5\n"
          ],
          "name": "stdout"
        }
      ]
    }
  ]
}