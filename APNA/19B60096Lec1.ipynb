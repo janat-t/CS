{
 "cells": [
  {
   "cell_type": "markdown",
   "metadata": {
    "id": "WGFK7KaDiRFU"
   },
   "source": [
    "# Day 1\n",
    "## Let's get started\n",
    "* Please remember two short cut.\n",
    "  * Ctrl-Enter (Push Ctrl key and Enter key simultaneously.): Execute command.\n",
    "  * Shift-Enter (Push Shift key and Enter key simultaneously.): Make a new cell.\n",
    "* Write the followings in a sell.\n",
    "```\n",
    "    print(\"Hello world.\")\n",
    "```\n",
    "* And type Ctrl-Enter.\n",
    "* You can see ```Hello world.```\n",
    "* Type Shift-Enter and write\n",
    "```\n",
    "a = 4\n",
    "b = 7\n",
    "c = a + b\n",
    "print(a, b, c)\n",
    "```\n",
    "* And type Ctrl-Enter.\n",
    "* Rewrite the last line to \n",
    "```\n",
    "print(\"{0} + {1} = {2}\".format(a, b, c))\n",
    "```\n",
    "* And type Ctrl-Enter.\n"
   ]
  },
  {
   "cell_type": "code",
   "execution_count": 1,
   "metadata": {
    "colab": {
     "base_uri": "https://localhost:8080/"
    },
    "id": "toWNr_8Ih2iN",
    "outputId": "ee8bd3a9-ddcb-4dc5-e9ef-f0770be135d1"
   },
   "outputs": [
    {
     "name": "stdout",
     "output_type": "stream",
     "text": [
      "Hello world.\n"
     ]
    }
   ],
   "source": [
    "# Make a program: Hello world\n",
    "print(\"Hello world.\")"
   ]
  },
  {
   "cell_type": "code",
   "execution_count": 2,
   "metadata": {
    "colab": {
     "base_uri": "https://localhost:8080/"
    },
    "id": "jzC-OIwJh2iQ",
    "outputId": "a24fcf46-4d1c-4122-a1e1-7330971ade13"
   },
   "outputs": [
    {
     "name": "stdout",
     "output_type": "stream",
     "text": [
      "4 7 11\n"
     ]
    }
   ],
   "source": [
    "# Make a program: Calculation\n",
    "a = 4\n",
    "b = 7\n",
    "c = a + b\n",
    "print(a, b, c)"
   ]
  },
  {
   "cell_type": "code",
   "execution_count": 3,
   "metadata": {
    "colab": {
     "base_uri": "https://localhost:8080/"
    },
    "id": "kGb1ECuSh2iW",
    "outputId": "cea91b51-939d-42cd-94cd-e1d0cd0f8301"
   },
   "outputs": [
    {
     "name": "stdout",
     "output_type": "stream",
     "text": [
      "4 + 7 = 11\n"
     ]
    }
   ],
   "source": [
    "# Make a program: Print with format\n",
    "print(\"{0} + {1} = {2}\".format(a, b, c))"
   ]
  },
  {
   "cell_type": "markdown",
   "metadata": {
    "id": "zH15pOjLj2U-"
   },
   "source": [
    "# Introduction to Python\n",
    "## Variables\n",
    "\n",
    "Variables can contain a values, values with structure, and objects.\n",
    "\n",
    "### Identifier\n",
    " * Name for a variable, a function, and a class.\n",
    " * Letters can be used for name of variable:\n",
    "  * Alphabet (`a`, `b`, ..., `A`, `B`, ...): Lower and upper cases are distinguished.)\n",
    "  * Numeral (`0`, `1`, `2`, ...) They cannot be used for the beginning.\n",
    "  * `_`\n",
    "  * Almost all of Unicode (`あ`, `ア`, `阿`, ...) Some of symbols are not allowed.\n",
    " * Example\n",
    "  * <font color=\"green\">Good</font>: `abc`, `_dAf_g`, `エビシ`, `阿`, `π`\n",
    "  *<font color=\"orange\">NG</font>: `3abc`, `$abc`, `阿。`, `３abc`\n",
    " * Keywords (Don't use as the name of variable.)\n",
    "   ** `False`, `None`, `True`, `and`, \n",
    "`as`, `assert`, `break`, `class`, `continue`, \n",
    "`def`, `del`, `elif`, `else`, `except`, \n",
    "`finally`, `for`, `from`, `global`, `if`, \n",
    "`import`, `in`, `is`, `lambda`, `nonlocal`, \n",
    "`not`, `or`, `pass`, `raise`, `return`, \n",
    "`try`, `while`, `with`, `yield`\n",
    " * Reserved classes of identifiers: `_*`, `__*`, `__*__`, \n",
    "\n",
    "### Type of data\n",
    "* Every data is handled as a object in Python.\n",
    "* Integer and float are also objects.  \n",
    "\n",
    "### Embedded types for numbers\n",
    "\n",
    "* `bool`\n",
    "* `int`\n",
    "* `float`\n",
    "* `complex`\n",
    "\n",
    "### Embedded types for multiple data\n",
    "* Immutable sequence \n",
    " * `tuple`\n",
    " * `string`\n",
    " * `bytes`\n",
    "* Mutable sequence \n",
    " * `list`\n",
    " * `bytearray`\n",
    "* Set \n",
    " * `set`  (mutable)\n",
    " * `fronzenset` (immutable)\n",
    "* Mapping\n",
    " * `dictionary`"
   ]
  },
  {
   "cell_type": "code",
   "execution_count": 4,
   "metadata": {
    "colab": {
     "base_uri": "https://localhost:8080/"
    },
    "id": "kWNFm4Kmh2iY",
    "outputId": "d472709a-c45f-46db-cc76-7921ca853d9d"
   },
   "outputs": [
    {
     "name": "stdout",
     "output_type": "stream",
     "text": [
      "3\n"
     ]
    }
   ],
   "source": [
    "エイビィシー = 3\n",
    "print(エイビィシー)"
   ]
  },
  {
   "cell_type": "markdown",
   "metadata": {
    "id": "OSHhV-wzwLZe"
   },
   "source": [
    "## Literal\n",
    " \n",
    "A literal expresses a concrete value.\n",
    "\n",
    "### Numbers\n",
    "* `bool` : `True`, `False`\n",
    "* `int` : `123`, `-123`\n",
    "* `float` : `2.5`, `-0.003`, `2.3e10`, `-2.553e-12`\n",
    "* `complex` : `3.0+2.1j`, `-2.1e-2+3.2e3j`\n",
    "\n",
    "### None\n",
    "* `None`\n",
    "\n",
    "### String\n",
    "\n",
    "* `'This is a pen.'`\n",
    "* `\"This is a pen.\"`\n",
    "\n",
    "### List\n",
    "* `[1, 4, 2, 5, 1, -2]`\n",
    "* `[\"This\", \"is\", \"a \", \"pen\"]`\n",
    "* `[1, \"This\", -3.0, \"a\"]`\n",
    "\n",
    "### Tuple\n",
    "* `(1, 4, 2, 5, 1, -2)`\n",
    "* `(\"This\", \"is\", \"a \", \"pen\")`\n",
    "* `(1, \"This\", -3.0, \"a\")`\n",
    "\n",
    "### Dictionary\n",
    "* `{1:\"Freshman\", 2:\"Sophomore\", 3:\"Junior\", 4:\"Senior\"}`\n",
    "* `{\"Freshman\":1, \"Sophomore\":2, \"Junior\":3, \"Senior\":4}`\n",
    "* `{(3, 4):7, (2, 4):\"ABC\", (\"ab\", 3)\":112, (\"dd\", \"ss\"):\"32\"}`\n",
    "\n",
    "### Set\n",
    "* `{1, 4, 2, 5, 1, -2}`\n",
    "* `{\"This\", \"is\", \"a \", \"pen\"}`\n",
    "* `{1, \"This\", -3.0, \"a\"}`\n",
    "\n",
    "## Operator\n",
    "### Arithmetic operator\n",
    "\n",
    "(Previlege Low $\\rightarrow$ High) \n",
    "\n",
    "| Operator | meaning |\n",
    "| ---- | ---- |\n",
    "| `x + y` | |\n",
    "| `x - y` | |\n",
    "| `x * y` | |\n",
    "| `x / y` | |\n",
    "| `x // y` | | devision as integers|\n",
    "| `x % y` | |\n",
    "| `-x` | |\n",
    "| `+x` | |\n",
    "| `x ** y` | $x^y$ |\n",
    "\n",
    "### Logical operator\n",
    "(Previlege Low $\\rightarrow$ High)\n",
    "\n",
    "|Operator | meaning |\n",
    "| ---- | ---- |\n",
    "|`x or y` | logical |\n",
    "|`x and y` | logical and |\n",
    "|`not x` | negation |\n",
    "\n",
    "### Bit operator\n",
    "(Previlege Low $\\rightarrow$ High)\n",
    "\n",
    "| Operator | meaning |\n",
    "| ---- | ---- |\n",
    "|`\\|` | logical or for each bit |\n",
    "|`^` | exclusive or for each bit|\n",
    "|`&` | and for each bit |\n",
    "|`<<`, `>>`  | bit shift (left, right) |\n",
    "|`~` | Negation |\n",
    "\n",
    "### Comparison operator\n",
    "\n",
    "| Operator | meaning |\n",
    "| ---- | ---- |\n",
    "| `x < y`   | |\n",
    "| `x <= y`  | |\n",
    "| `x > y`   | |\n",
    "| `x >= y`  | |\n",
    "| `x == y`  | |\n",
    "| `x != y`  | |\n",
    "| `x is y` | `x` and `y` are the same object.|\n",
    "| `x is not y`  | |\n",
    "| `x in y` | `x` is included in `y`.|\n",
    "| `x not in y`  | |\n",
    "\n",
    "### Membership operator\n",
    "\n",
    "| Operator | meaning |\n",
    "| ---- | ---- |\n",
    "| `x in y` | `x` is included in `y`.|\n",
    "| `x not in y` | |\n",
    "\n",
    "### Equality operator\n",
    "\n",
    "| Operator | meaning |\n",
    "| ---- | ---- |\n",
    "|`x is y` | `x` and `y` are the same object.|\n",
    "|`x is not y` | |\n",
    "\n",
    "\n",
    "### Cumulative assign operator\n",
    "(Previlege Low $\\rightarrow$ High) \n",
    "\n",
    "| Operator | meaning |\n",
    "| ---- | ---- |\n",
    "|  `x += y` | `x = x + y` |\n",
    "| `x -= y` |  `x = x - y` |\n",
    "| `x *= y` |  `x = x * y` |\n",
    "| `x /= y` |  `x = x / y` |\n",
    "| `x //= y` |  `x = x // y` |\n",
    "| `x %= y` |  `x = x % y` |\n",
    "| `x >>= y` |  `x = x >> y` |\n",
    "| `x <<= y` | \\ `x = x << y` |\n",
    "| `x &= y` |  `x = x & y` |\n",
    "| `x ^= y` |  `x = x ^ y` |\n",
    "| `x \\|= y` | `x = x \\| y` |\n",
    "\n",
    "\n",
    "### Operators in Python\n",
    "\n",
    "(Previlege Low $\\rightarrow$ High) \n",
    "\n",
    "| Operator | meaning |\n",
    "| ---- | ---- |\n",
    "| `lambda` | | \n",
    "| `if` `else` | | \n",
    "| Logical operators | | \n",
    "| Membership operators | |\n",
    "| Equality operators | | \n",
    "| Bit operators | (Except `~x` ) |\n",
    "| Arithmetic operators | (Except `+x`,  `-x`, and `x ** y`) |\n",
    "| `+x`, `-x`, and `~x` | |\n",
    "| `x ** y` | |\n",
    "| `x`.attribute | reference of attribute | \n",
    "| `x[`index`]`, `x[`index`:`index`]` |  indexces of array |\n",
    "| `x(`expression, ... `)` | Call of a function |\n",
    "| \n",
    "|`(`expression, ... `)` <br> `[`expression, ... `]` <br> `[`key`:` value, ... `}` <br> `{`expression, ... `}` |  Tuple literal <br>  List literal <br>  Dictonary literal<br>  Set literal |\n"
   ]
  },
  {
   "cell_type": "markdown",
   "metadata": {
    "id": "0sPwzvkR6I6e"
   },
   "source": [
    "## Expression\n",
    "* The expression can be evaluated and have a value.\n",
    "* Examples:\n",
    " * literals: ```3```, ```[1, 2]```\n",
    " * Combination of operator and operand: ```-x```, ```x + y```, ```z = x + y```, ```x == y```\n",
    " * Function: ```sin(x)```\n",
    "\n",
    "## Statement\n",
    "\n",
    "* Statement expresses a procedure.\n",
    "* Expression is also a statement.\n",
    "* Examples of statement: ```if```, ```elif```, ```else```, ```break```, ```continue```,  and ```import``` statements.\n"
   ]
  },
  {
   "cell_type": "markdown",
   "metadata": {
    "id": "_aiF675K6r5j"
   },
   "source": [
    "## Control\n",
    "### If\n",
    "* Conditional execution. \n",
    "\n",
    "```\n",
    "x = 3\n",
    "if (x == 3):\n",
    "  print('x is three.')\n",
    "print(\"End of program.\")\n",
    "```\n",
    "\n",
    "### else\n",
    "\n",
    "```\n",
    "x = 3\n",
    "if (x == 3):\n",
    "  print('x is three.')\n",
    "else:\n",
    "  print('x is not three.')\n",
    "print(\"End of program.\")\n",
    "```\n",
    "\n",
    "### elif\n",
    "\n",
    "```\n",
    "x = 3\n",
    "if (x == 3):\n",
    "  print('x is three.')\n",
    "elif (x == 7):\n",
    "  print('x is seven.')\n",
    "else:\n",
    "  print('x is not three or seven.')\n",
    "print(\"End of program.\")\n",
    "```\n",
    "\n",
    "### Nest\n",
    "\n",
    "* Conditional sentences in a conditional sentence.\n",
    "* Loop sentences in a loop sentence.\n",
    "\n",
    "```\n",
    "x = 3\n",
    "y = 5\n",
    "if (x == 3):\n",
    "  if (y == 5):\n",
    "    print('x is three and y is five.')\n",
    "  else:\n",
    "    print('x is three and y is not five.')\n",
    "else:\n",
    "  if (y == 9):\n",
    "    print('x is not three and y is nine.')\n",
    "  else:\n",
    "    print('x is not three and y is not nine.')\n",
    "  print('x is not three.')\n",
    "print(\"End of program.\")\n",
    "```\n"
   ]
  },
  {
   "cell_type": "code",
   "execution_count": 5,
   "metadata": {
    "id": "wKj75onPh2ia"
   },
   "outputs": [
    {
     "name": "stdout",
     "output_type": "stream",
     "text": [
      "A is odd number\n",
      "End of Program\n"
     ]
    }
   ],
   "source": [
    "# Make a program: Use if sentence\n",
    "a = 17\n",
    "if a%2 == 1:\n",
    "    print(\"A is odd number\")\n",
    "print(\"End of Program\")"
   ]
  },
  {
   "cell_type": "code",
   "execution_count": 6,
   "metadata": {
    "id": "fOnkSDQsh2id"
   },
   "outputs": [
    {
     "name": "stdout",
     "output_type": "stream",
     "text": [
      "A is even number\n",
      "End of Program\n"
     ]
    }
   ],
   "source": [
    "# Make a program: Use if and else sentence\n",
    "a = 14\n",
    "if a%2 == 1:\n",
    "    print(\"A is odd number\")\n",
    "else:\n",
    "    print(\"A is even number\")\n",
    "print(\"End of Program\")"
   ]
  },
  {
   "cell_type": "code",
   "execution_count": 7,
   "metadata": {
    "id": "RggbAkPlh2im"
   },
   "outputs": [
    {
     "name": "stdout",
     "output_type": "stream",
     "text": [
      "Good\n",
      "End of Program\n"
     ]
    }
   ],
   "source": [
    "# Make a program: Use if, elif, and else sentence\n",
    "score = 8\n",
    "if score<6:\n",
    "    print(\"Fail\")\n",
    "elif score<9:\n",
    "    print(\"Good\")\n",
    "else:\n",
    "    print(\"Excellent\")\n",
    "print(\"End of Program\")"
   ]
  },
  {
   "cell_type": "code",
   "execution_count": 8,
   "metadata": {
    "id": "BdRDKVMFh2iv"
   },
   "outputs": [
    {
     "name": "stdout",
     "output_type": "stream",
     "text": [
      "X can be divided by 21\n"
     ]
    }
   ],
   "source": [
    "# Make a program: Use nesting of if and else sentence\n",
    "x = 63\n",
    "print(\"X can be divided by \",end='')\n",
    "if x%3 == 0:\n",
    "    if x%5 == 0:\n",
    "        if x%7 == 0:\n",
    "            print(\"105\")\n",
    "        else:\n",
    "            print(\"15\")\n",
    "    else:\n",
    "        if x%7 == 0:\n",
    "            print(\"21\")\n",
    "        else:\n",
    "            print(\"3\")\n",
    "else:\n",
    "    if x%5 == 0:\n",
    "        if x%7 == 0:\n",
    "            print(\"35\")\n",
    "        else:\n",
    "            print(\"5\")\n",
    "    else:\n",
    "        if x%7 == 0:\n",
    "            print(\"7\")\n",
    "        else:\n",
    "            print(\"1\")"
   ]
  },
  {
   "cell_type": "markdown",
   "metadata": {
    "id": "He9fLS2o7RGq"
   },
   "source": [
    "### for\n",
    "\n",
    "* Loop sentence\n",
    "* Range object : ```range(2, 6)``` is equivalent to ```(2, 3, 4, 5)```\n",
    "\n",
    "```\n",
    "sum = 0\n",
    "for x in range(1, 11):\n",
    "  print(x)\n",
    "  sum += x\n",
    "print(sum)\n",
    "```\n",
    "\n",
    "By using list.\n",
    "\n",
    "```\n",
    "sum = 0\n",
    "for x in (1, 2, 3, 4, 5, 6, 7, 8, 9, 10):\n",
    "  print(x)\n",
    "  sum += x\n",
    "print(sum)\n",
    "```\n",
    "\n",
    "Try by changing tuple to \n",
    "* List: ```[1, 2, 3, 4, 5, 6, 7, 8, 9, 10]``` and ```[2, 1, 3, 4, 5, 6, 7, 8, 9, 10]``` \n",
    "* Set: ```{1, 2, 3, 4, 5, 6, 7, 8, 9, 10}``` and ```{2, 1, 3, 4, 5, 6, 7, 8, 9, 10}``` \n",
    "* Dictonary\n",
    "\n",
    "```\n",
    "dic = {1:\"one one\", 2:\"two\", 3:\"surii\"}\n",
    "for key in dic:\n",
    "  print(key)\n",
    "  print(dic[key])\n",
    "```"
   ]
  },
  {
   "cell_type": "code",
   "execution_count": 9,
   "metadata": {
    "colab": {
     "base_uri": "https://localhost:8080/"
    },
    "id": "7dtpe3EKh2ix",
    "outputId": "0c77ee7c-169a-4633-ce75-569cd726fbbc"
   },
   "outputs": [
    {
     "name": "stdout",
     "output_type": "stream",
     "text": [
      "Sum from 1 to 10 is 55\n"
     ]
    }
   ],
   "source": [
    "# Make a program: sum from 1 to 10 using range\n",
    "sum = 0\n",
    "for i in range(1,11):\n",
    "  sum += i\n",
    "print(\"Sum from 1 to 10 is\", sum)"
   ]
  },
  {
   "cell_type": "code",
   "execution_count": 10,
   "metadata": {
    "colab": {
     "base_uri": "https://localhost:8080/"
    },
    "id": "Xp4JM3b5h2i8",
    "outputId": "d53b92e9-9094-41d0-d4ac-d0bd54dda500"
   },
   "outputs": [
    {
     "name": "stdout",
     "output_type": "stream",
     "text": [
      "Sum of 1 to 10 is 55\n"
     ]
    }
   ],
   "source": [
    "# Make a program: Sum from 1 to 10 using tuple\n",
    "sum = 0\n",
    "for i in (1,2,3,4,5,6,7,8,9,10):\n",
    "  sum += i\n",
    "print(\"Sum of 1 to 10 is\", sum)"
   ]
  },
  {
   "cell_type": "code",
   "execution_count": 11,
   "metadata": {
    "colab": {
     "base_uri": "https://localhost:8080/"
    },
    "id": "qpPdX3wwh2i_",
    "outputId": "100e836a-28ea-4d25-9a5f-1a24578afca0"
   },
   "outputs": [
    {
     "name": "stdout",
     "output_type": "stream",
     "text": [
      "Sum from 1 to 10 is 55\n"
     ]
    }
   ],
   "source": [
    "# Make a program: Sum from 1 to 10 using list\n",
    "l = [1,2,3,4,5,6,7,8,9,10]\n",
    "sum = 0\n",
    "for i in l:\n",
    "  sum += i\n",
    "print(\"Sum from 1 to 10 is\", sum)"
   ]
  },
  {
   "cell_type": "code",
   "execution_count": 12,
   "metadata": {
    "colab": {
     "base_uri": "https://localhost:8080/"
    },
    "id": "PvOU0F1ch2jB",
    "outputId": "9802608d-b08d-4641-db91-5c70cdf16a92"
   },
   "outputs": [
    {
     "name": "stdout",
     "output_type": "stream",
     "text": [
      "Sum from 1 to 10 is 55\n"
     ]
    }
   ],
   "source": [
    "# Make a program: Sum from 1 to 10 using set\n",
    "s = {1,2,3,4,5,6,7,8,9,10}\n",
    "sum = 0\n",
    "for i in s:\n",
    "  sum += i\n",
    "print(\"Sum from 1 to 10 is\", sum)"
   ]
  },
  {
   "cell_type": "code",
   "execution_count": 13,
   "metadata": {
    "colab": {
     "base_uri": "https://localhost:8080/"
    },
    "id": "iPwSb0ONh2jM",
    "outputId": "57fc584c-0a40-41f7-8c05-185b432a86fc"
   },
   "outputs": [
    {
     "name": "stdout",
     "output_type": "stream",
     "text": [
      "Sum from 1 to 10 is 55\n"
     ]
    }
   ],
   "source": [
    "# Make a program: Use dictonary\n",
    "d = {10:1, 9:2, 8:3, 7:4, 11:5, 5:6, 4:7, 3:8, 2:9, 1:10}\n",
    "sum = 0\n",
    "for x,y in d.items():\n",
    "  sum += y\n",
    "print(\"Sum from 1 to 10 is\", sum)\n"
   ]
  },
  {
   "cell_type": "markdown",
   "metadata": {
    "id": "-pHunaB57xGX"
   },
   "source": [
    "### break,  continue, else\n",
    "\n",
    "* `break` : Exit from loop.\n",
    "* `continue` : Latter part of loop is skipped. \n",
    "* `else` : When the loop ended normally (not by `break`) the following block is executed. \n",
    "\n",
    "```\n",
    "sum = 0\n",
    "for x in range(1, 11):\n",
    "  print(x)\n",
    "  if (x == 5):\n",
    "    break\n",
    "  sum += x\n",
    "print(sum)\n",
    "```\n",
    "\n",
    "```\n",
    "\n",
    "sum = 0\n",
    "for x in range(1, 11):\n",
    "  print(x)\n",
    "  if (x == 5):\n",
    "    continue\n",
    "  sum += x\n",
    "print(sum)\n",
    "```\n",
    "\n",
    "```\n",
    "sum = 0\n",
    "for x in range(1, 11):\n",
    "  print(x)\n",
    "  if (x == 5):\n",
    "    break\n",
    "  sum += x\n",
    "else:\n",
    "  print(\"Else sentence\")\n",
    "print(sum)\n",
    "```\n",
    "\n",
    "```\n",
    "sum = 0\n",
    "for x in range(1, 11):\n",
    "  print(x)\n",
    "  if (x == 5):\n",
    "    continue\n",
    "  sum += x\n",
    "else:\n",
    "  print(\"Else sentence\")\n",
    "print(sum)\n",
    "```"
   ]
  },
  {
   "cell_type": "code",
   "execution_count": 14,
   "metadata": {
    "colab": {
     "base_uri": "https://localhost:8080/"
    },
    "id": "gNevaP7Ih2jO",
    "outputId": "7a340a96-ba32-4712-9e7d-1b4e048de2f2",
    "scrolled": true
   },
   "outputs": [
    {
     "name": "stdout",
     "output_type": "stream",
     "text": [
      "Sum from 0 to 8 is 36\n"
     ]
    }
   ],
   "source": [
    "# Make a program: Use break sentence\n",
    "sum = 0\n",
    "r = 8\n",
    "for i in range(10000):\n",
    "  if i > r:\n",
    "    break\n",
    "  sum += i\n",
    "print(\"Sum from 0 to {0} is {1}\".format(r, sum))"
   ]
  },
  {
   "cell_type": "code",
   "execution_count": 15,
   "metadata": {
    "id": "oxBU3nG6ysW4"
   },
   "outputs": [
    {
     "name": "stdout",
     "output_type": "stream",
     "text": [
      "Sum from 1 to 10 except 4 is 51\n"
     ]
    }
   ],
   "source": [
    "# Make a program: Use continue sentence\n",
    "sum = 0\n",
    "s = 4\n",
    "for i in range(1,11):\n",
    "    if i == s:\n",
    "        continue\n",
    "    sum += i\n",
    "print(\"Sum from 1 to 10 except {0} is {1}\".format(s,sum))"
   ]
  },
  {
   "cell_type": "code",
   "execution_count": 16,
   "metadata": {
    "id": "o0vMeOqBh2jT"
   },
   "outputs": [
    {
     "name": "stdout",
     "output_type": "stream",
     "text": [
      "Sum from 1 to 6 is 21\n"
     ]
    }
   ],
   "source": [
    "# Make a program: Use break sentence and else sentence for for sentence\n",
    "sum = 0\n",
    "s = 6\n",
    "for i in range(1, 11):\n",
    "  if i > s:\n",
    "    break\n",
    "  sum += i\n",
    "else:\n",
    "  print(\"The loop completed\")\n",
    "print(\"Sum from 1 to {0} is {1}\".format(s,sum))"
   ]
  },
  {
   "cell_type": "code",
   "execution_count": 17,
   "metadata": {
    "id": "xyo-9n8Wy7az"
   },
   "outputs": [
    {
     "name": "stdout",
     "output_type": "stream",
     "text": [
      "The loop completed\n",
      "Sum from 1 to 10 except 5 is 50\n"
     ]
    }
   ],
   "source": [
    "# Make a program: Use continue sentence and else sentence for for sentence\n",
    "sum = 0\n",
    "s = 5\n",
    "for i in range(1, 11):\n",
    "  if i == s:\n",
    "    continue\n",
    "  sum += i\n",
    "else:\n",
    "  print(\"The loop completed\")\n",
    "print(\"Sum from 1 to 10 except {0} is {1}\".format(s,sum))"
   ]
  },
  {
   "cell_type": "markdown",
   "metadata": {
    "id": "dSDBkeWO8J7n"
   },
   "source": [
    "### while\n",
    "* When the condition is true, the following block is executed.\n",
    "\n",
    "```\n",
    "sum = 0\n",
    "x = 1;\n",
    "while x < 11:\n",
    "  print(x)\n",
    "  sum += x\n",
    "  x += 1\n",
    "print(sum)\n",
    "```"
   ]
  },
  {
   "cell_type": "code",
   "execution_count": 18,
   "metadata": {
    "id": "m5jpoYwUh2jd"
   },
   "outputs": [
    {
     "name": "stdout",
     "output_type": "stream",
     "text": [
      "11 is at index 7\n",
      "8 was not found in the array\n"
     ]
    }
   ],
   "source": [
    "# Make a program: Use while sentence\n",
    "# I'm writing binary search\n",
    "def bsearch(a, x):\n",
    "    l = 0\n",
    "    r = len(a)\n",
    "    while l < r:\n",
    "        m = (l+r)//2\n",
    "        if a[m] == x:\n",
    "            print(\"{0} is at index {1}\".format(x, m))\n",
    "            break\n",
    "        elif a[m] >= x:\n",
    "            r = m\n",
    "        else:\n",
    "            l = m+1\n",
    "    else:\n",
    "        print(\"{0} was not found in the array\".format(x))\n",
    "\n",
    "\n",
    "a = [1,2,5,6,7,9,10,11,13,15]\n",
    "bsearch(a,11)\n",
    "bsearch(a,8)"
   ]
  },
  {
   "cell_type": "markdown",
   "metadata": {
    "id": "q8avSV0R8WP3"
   },
   "source": [
    "## Function\n",
    "\n",
    "* When you have many same processes for various values, it is not good to describe them respectively.\n",
    "* Define a function that describes the process.\n",
    "* A function is defined by `def`.\n",
    "* A function of python can return multiple values by using `return`.\n",
    "* When a function is called, arguments specified by order or variables. \n",
    "* Example: \n",
    "\n",
    "```\n",
    "def printxy(x, y):\n",
    "    print(\"x = {0}, y = {1}\".format(x, y))\n",
    "\n",
    "printxy(2, 4)\n",
    "printxy(y = 2, x = 4)\n",
    "```\n",
    "\n",
    "* Example:\n",
    "\n",
    "```\n",
    "# Return product\n",
    "def prod(x, y):\n",
    "    prodv = x * y\n",
    "    return prodv\n",
    "    \n",
    "a = 10\n",
    "b = 7\n",
    "u = prod(a, b)\n",
    "print(\"{0} x {1} = {2}\".format(a, b, u))\n",
    "```\n",
    "\n",
    "* Example\n",
    "\n",
    "```\n",
    "# Euclidean algorithm\n",
    "def euclid(x, y):\n",
    "    u, v = x, y\n",
    "    while(u != 0):\n",
    "        u, v = (v % u), u\n",
    "    else:\n",
    "        lcd = v\n",
    "        mcm = int(x * y / lcd)\n",
    "    return lcd, mcm\n",
    "\n",
    "x = 12\n",
    "y = 9\n",
    "a, b = euclid(x, y)\n",
    "print(\"For {0} and {1}, LCD = {2}, MCM = {3}\".format(x, y, a, b))\n",
    "```"
   ]
  },
  {
   "cell_type": "code",
   "execution_count": 19,
   "metadata": {
    "colab": {
     "base_uri": "https://localhost:8080/"
    },
    "id": "hIya_7dDh2jf",
    "outputId": "5928355f-29b3-46c3-9803-c4f3c43c3d9e"
   },
   "outputs": [
    {
     "name": "stdout",
     "output_type": "stream",
     "text": [
      "x = 2, y = 4\n",
      "x = 4, y = 2\n"
     ]
    }
   ],
   "source": [
    "def printxy(x, y):\n",
    "  print(\"x = {0}, y = {1}\".format(x, y))\n",
    "\n",
    "printxy(2, 4)\n",
    "printxy(y = 2, x = 4)"
   ]
  },
  {
   "cell_type": "code",
   "execution_count": 20,
   "metadata": {
    "colab": {
     "base_uri": "https://localhost:8080/"
    },
    "id": "-pXdMGjJh2jh",
    "outputId": "4e66edf7-11e2-4679-f8d7-d5f9a684e0b6"
   },
   "outputs": [
    {
     "name": "stdout",
     "output_type": "stream",
     "text": [
      "Product of 12 and 84 is 1008\n"
     ]
    }
   ],
   "source": [
    "# Make a program: Make and use a function that retruns product\n",
    "def prod(x, y):\n",
    "  return x*y\n",
    "\n",
    "x = 12\n",
    "y = 84\n",
    "print(\"Product of {0} and {1} is {2}\".format(x, y, prod(x, y)))"
   ]
  },
  {
   "cell_type": "code",
   "execution_count": 21,
   "metadata": {
    "colab": {
     "base_uri": "https://localhost:8080/"
    },
    "id": "kCbrP-iVh2jn",
    "outputId": "711872c5-5f62-45ae-8eb9-a30c69d80e57"
   },
   "outputs": [
    {
     "name": "stdout",
     "output_type": "stream",
     "text": [
      "For 15 and 35, LCD is 5 and MCM is 105\n"
     ]
    }
   ],
   "source": [
    "# Make a program: Make a program of Euclidean algorithm\n",
    "def euclid_lcd(a,b):\n",
    "  if b == 0:\n",
    "    return a\n",
    "  return euclid_lcd(b, a%b)\n",
    "\n",
    "def euclid_mcm(a,b):\n",
    "  return a*b//euclid_lcd(a,b)\n",
    "\n",
    "a = 15\n",
    "b = 35\n",
    "print(\"For {0} and {1}, LCD is {2} and MCM is {3}\".format(a, b, euclid_lcd(a, b), euclid_mcm(a, b)))\n"
   ]
  },
  {
   "cell_type": "code",
   "execution_count": 22,
   "metadata": {
    "id": "dJskhn5wh2jp"
   },
   "outputs": [
    {
     "name": "stdout",
     "output_type": "stream",
     "text": [
      "x and y[1] at first are 1 and 2\n",
      "x and y[1] in a fuction are 11 and 12\n",
      "x and y[1] after the function are 1 and 12\n"
     ]
    }
   ],
   "source": [
    "# Pass by value or pass by reference for a function.\n",
    "def valOrRef(x, y):\n",
    "  x = 11\n",
    "  y[1] = 12\n",
    "  print(\"x and y[1] in a fuction are {0} and {1}\".format(x, y[1]))\n",
    "    \n",
    "x = 1\n",
    "y = [1, 2, 3]\n",
    "print(\"x and y[1] at first are {0} and {1}\".format(x, y[1]))\n",
    "valOrRef(x, y)\n",
    "print(\"x and y[1] after the function are {0} and {1}\".format(x, y[1]))"
   ]
  },
  {
   "cell_type": "markdown",
   "metadata": {
    "id": "15z2EfGS8vj7"
   },
   "source": [
    "## Objects\n",
    "\n",
    "Discuss at the next class. \n"
   ]
  },
  {
   "cell_type": "markdown",
   "metadata": {
    "id": "ykLREeT39S9i"
   },
   "source": [
    "# Report\n",
    "\n",
    "* For every class, students have to submit a report in 7 days after the lecture.\n",
    "* The main file should be the nootbook format of ipython. Its file name should be ```[student number]Lec[day of class].ipynb```. (ex. ```18B54321Lec1.ipynb```)\n",
    "* Markdown cells are allowed to describe the report.\n",
    "* Supplementary files such as images for Class 4 are allowed. Their files should be like ```[student number]Lec[day of class]Sub[number].[extension]```. (ex. ```18B54321LecSub1.jpg```)\n",
    "* Submit the file(s) in the corresponding page of T2SCHOLA (```https://t2schola.titech.ac.jp/course/view.php?id=9753```)."
   ]
  },
  {
   "cell_type": "markdown",
   "metadata": {
    "id": "Kvg3-BEeh2jx"
   },
   "source": [
    "# Markdown\n",
    "\n",
    "## A blank line (Sometimes two blank lines) is not necessary to separate blocks.\n",
    "```\n",
    "This is a apen.\n",
    "This is a pencil.\n",
    "\n",
    "This is a ballpoint.\n",
    "```\n",
    "\n",
    "This is a apen.\n",
    "This is a pencil.\n",
    "\n",
    "This is a ballpoint.\n",
    "\n",
    "## `#` : For titles\n",
    "``` \n",
    "## List\n",
    "```\n",
    "\n",
    "## List\n",
    "\n",
    "* ```*``` : For list. (Indent can be used)\n",
    "* ```1.``` : For list with a number. (Indent can be used)\n",
    "\n",
    "```\n",
    "* item 1\n",
    "* item 2\n",
    "  * item 2.1\n",
    "* item 3\n",
    "```\n",
    "\n",
    "* list 1\n",
    "* item 2\n",
    "  * item 2.1\n",
    "* list 3\n",
    "\n",
    "```\n",
    "1. Nlist 1\n",
    "1. Nlist 2\n",
    "  1. Nlist 2.1\n",
    "  1. Nlist 2.2\n",
    "1. Nlist 3 \n",
    "```\n",
    "\n",
    "1. Nlist 1\n",
    "1. Nlist 2\n",
    "  1. Nlist 2.1\n",
    "  1. Nlist 2.2\n",
    "1. Nlist 3 \n",
    "\n",
    "## Preformatted text\n",
    "\n",
    "## Code in a line\n",
    "\n",
    "* \\`sin(0.5)\\` for preformatted text (in line)  as `sin(0.5)`.\n",
    "* ```    ``` (4 spaces or tab) For preformatted text (block).\n",
    "* Between two triple backquatos : For preformatted text in a line.\n",
    "\n",
    "```\n",
    "This is\n",
    "  A\n",
    "    B\n",
    "\n",
    "    This is\n",
    "      A\n",
    "         B\n",
    "```\n",
    "\n",
    "This is\n",
    "  A\n",
    "    B\n",
    "\n",
    "    This is\n",
    "      A\n",
    "         B\n",
    "\n",
    "## Two spaces after a text : New line\n",
    "\n",
    "```\n",
    "This is\n",
    "a pen\n",
    "\n",
    "This is  \n",
    "a pen\n",
    "```\n",
    "This is\n",
    "a pen\n",
    "\n",
    "This is  \n",
    "a pen\n",
    "\n",
    "## Equation: Between two `$` (in line) and `$$` (in next line)\n",
    "\n",
    "```\n",
    "This is $\\frac{3}{4}$.\n",
    "```\n",
    "This is $\\frac{3}{4}$.\n",
    "\n",
    "```\n",
    "We have \n",
    "$$\n",
    "\\frac{1}{2} + \\frac{1}{3} = \\frac{5}{6}.\n",
    "$$\n",
    "```\n",
    "We have \n",
    "$$\n",
    "\\frac{1}{2} + \\frac{1}{3} = \\frac{5}{6}.\n",
    "$$\n"
   ]
  }
 ],
 "metadata": {
  "colab": {
   "collapsed_sections": [],
   "name": "19B60096Lec01.ipynb",
   "provenance": []
  },
  "kernelspec": {
   "display_name": "Python 3",
   "language": "python",
   "name": "python3"
  },
  "language_info": {
   "codemirror_mode": {
    "name": "ipython",
    "version": 3
   },
   "file_extension": ".py",
   "mimetype": "text/x-python",
   "name": "python",
   "nbconvert_exporter": "python",
   "pygments_lexer": "ipython3",
   "version": "3.9.0"
  }
 },
 "nbformat": 4,
 "nbformat_minor": 1
}
